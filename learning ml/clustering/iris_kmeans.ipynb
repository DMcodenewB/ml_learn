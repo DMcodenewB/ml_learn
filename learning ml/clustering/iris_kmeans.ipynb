{
 "cells": [
  {
   "cell_type": "code",
   "execution_count": 1,
   "metadata": {},
   "outputs": [],
   "source": [
    "import pandas as pd\n",
    "import matplotlib.pyplot as plt\n",
    "import random as rd\n",
    "import math as mt\n",
    "import numpy as np\n",
    "\n",
    "from sklearn.cluster import KMeans\n",
    "from sklearn.preprocessing import StandardScaler"
   ]
  },
  {
   "cell_type": "code",
   "execution_count": 2,
   "metadata": {},
   "outputs": [],
   "source": [
    "Iris = pd.read_table('../datafiles/iris/iris.data', sep=',')\n",
    "Iris = Iris.dropna(how=\"all\")"
   ]
  },
  {
   "cell_type": "code",
   "execution_count": 3,
   "metadata": {},
   "outputs": [
    {
     "data": {
      "text/html": [
       "<div>\n",
       "<style scoped>\n",
       "    .dataframe tbody tr th:only-of-type {\n",
       "        vertical-align: middle;\n",
       "    }\n",
       "\n",
       "    .dataframe tbody tr th {\n",
       "        vertical-align: top;\n",
       "    }\n",
       "\n",
       "    .dataframe thead th {\n",
       "        text-align: right;\n",
       "    }\n",
       "</style>\n",
       "<table border=\"1\" class=\"dataframe\">\n",
       "  <thead>\n",
       "    <tr style=\"text-align: right;\">\n",
       "      <th></th>\n",
       "      <th>Sepal length</th>\n",
       "      <th>Sepal width</th>\n",
       "      <th>Petal length</th>\n",
       "      <th>Petal width</th>\n",
       "      <th>Species</th>\n",
       "    </tr>\n",
       "  </thead>\n",
       "  <tbody>\n",
       "    <tr>\n",
       "      <th>0</th>\n",
       "      <td>5.1</td>\n",
       "      <td>3.5</td>\n",
       "      <td>1.4</td>\n",
       "      <td>0.2</td>\n",
       "      <td>Iris-setosa</td>\n",
       "    </tr>\n",
       "    <tr>\n",
       "      <th>1</th>\n",
       "      <td>4.9</td>\n",
       "      <td>3.0</td>\n",
       "      <td>1.4</td>\n",
       "      <td>0.2</td>\n",
       "      <td>Iris-setosa</td>\n",
       "    </tr>\n",
       "    <tr>\n",
       "      <th>2</th>\n",
       "      <td>4.7</td>\n",
       "      <td>3.2</td>\n",
       "      <td>1.3</td>\n",
       "      <td>0.2</td>\n",
       "      <td>Iris-setosa</td>\n",
       "    </tr>\n",
       "    <tr>\n",
       "      <th>3</th>\n",
       "      <td>4.6</td>\n",
       "      <td>3.1</td>\n",
       "      <td>1.5</td>\n",
       "      <td>0.2</td>\n",
       "      <td>Iris-setosa</td>\n",
       "    </tr>\n",
       "    <tr>\n",
       "      <th>4</th>\n",
       "      <td>5.0</td>\n",
       "      <td>3.6</td>\n",
       "      <td>1.4</td>\n",
       "      <td>0.2</td>\n",
       "      <td>Iris-setosa</td>\n",
       "    </tr>\n",
       "  </tbody>\n",
       "</table>\n",
       "</div>"
      ],
      "text/plain": [
       "   Sepal length  Sepal width  Petal length  Petal width      Species\n",
       "0           5.1          3.5           1.4          0.2  Iris-setosa\n",
       "1           4.9          3.0           1.4          0.2  Iris-setosa\n",
       "2           4.7          3.2           1.3          0.2  Iris-setosa\n",
       "3           4.6          3.1           1.5          0.2  Iris-setosa\n",
       "4           5.0          3.6           1.4          0.2  Iris-setosa"
      ]
     },
     "execution_count": 3,
     "metadata": {},
     "output_type": "execute_result"
    }
   ],
   "source": [
    "Iris.head()"
   ]
  },
  {
   "cell_type": "code",
   "execution_count": 4,
   "metadata": {},
   "outputs": [
    {
     "data": {
      "text/plain": [
       "<matplotlib.collections.PathCollection at 0x2f5e1ae8e20>"
      ]
     },
     "execution_count": 4,
     "metadata": {},
     "output_type": "execute_result"
    },
    {
     "data": {
      "image/png": "[encoded data removed]",
      "text/plain": [
       "<Figure size 432x288 with 1 Axes>"
      ]
     },
     "metadata": {},
     "output_type": "display_data"
    }
   ],
   "source": [
    "plt.style.use('ggplot')\n",
    "plt.xlabel(\"Width\")\n",
    "plt.ylabel(\"Length\")\n",
    "plt.title(\"Petal\")\n",
    "xAxis = Iris['Petal width']\n",
    "yAxis = Iris['Petal length']\n",
    "plt.scatter(xAxis, yAxis)"
   ]
  },
  {
   "cell_type": "markdown",
   "metadata": {},
   "source": [
    "HOW TO DO KMEANS\n",
    "1. Pick a number of centroids (k) and number of iterations (n)\n",
    "2. Choose k (random/chosen) points and mark them as centroids (they may have coordinates as some points from the data)\n",
    "3. Iterate n times:\n",
    "    3.1. Calculate distance from every centroid to every point from the data\n",
    "    3.2. Assign every point to their closest centroid respectively\n",
    "    3.3. Calculate average coordinates for every centroid based on coordinates that \"their\" points have\n",
    "4. Return a statistics (maybe a plot) of clustering for each group and their centroids."
   ]
  },
  {
   "cell_type": "code",
   "execution_count": 5,
   "metadata": {},
   "outputs": [
    {
     "data": {
      "text/plain": [
       "[(0.2, 1.5), (1.4, 4.6), (0.2, 1.0), (1.3, 4.1), (2.1, 6.6)]"
      ]
     },
     "execution_count": 5,
     "metadata": {},
     "output_type": "execute_result"
    }
   ],
   "source": [
    "cols = list(zip(Iris['Petal width'], Iris['Petal length']))\n",
    "test_samp = rd.sample(range(0,len(cols)), 5)\n",
    "fresh = []\n",
    "for x in range (0,5):\n",
    "    es = cols[test_samp[x]]\n",
    "    fresh.append(es)\n",
    "fresh"
   ]
  },
  {
   "cell_type": "code",
   "execution_count": 6,
   "metadata": {},
   "outputs": [],
   "source": [
    "def setStartingCentroids2d(cols, k, seltype=\"random\"):\n",
    "    fresh_centroids = []\n",
    "    #random centroid list selection\n",
    "    if seltype==\"random\":\n",
    "        samp = rd.sample(range(0,len(cols)), k)\n",
    "        for x in range (0,k):\n",
    "            fresh_centroids.append((cols[samp[x]]))\n",
    "    return fresh_centroids\n",
    "\n",
    "def assignGroups(distances):\n",
    "    groups = []\n",
    "    for row in range(0,len(distances)):\n",
    "        groups.append(distances[row].index(min(distances[row])))\n",
    "    return groups\n",
    "\n",
    "    \n",
    "def setDistances2d(cols, centroids):\n",
    "    distances = []\n",
    "\n",
    "    for row in range (0,len(cols)):\n",
    "        point_distances = []\n",
    "        for x in range(0, len(centroids)):\n",
    "            point_distances.append(mt.sqrt(mt.pow(cols[row][0]-centroids[x][0],2)+mt.pow(cols[row][1]-centroids[x][1],2)))\n",
    "        distances.append(point_distances)\n",
    "    groups = assignGroups(distances)\n",
    "    return groups\n",
    "\n",
    "def newCentroids2d(centroids, groups, cols): #centroids: 1xK, distances: MxK, groups: Mx1, cols: Mx2\n",
    "    new_centroids = []\n",
    "    for k in range (0, len(centroids)):\n",
    "        wAvg = 0\n",
    "        lAvg = 0\n",
    "        count = 0\n",
    "        for m in range(0, len(groups)):\n",
    "            if groups[m] == k:\n",
    "                wAvg += cols[m][0]\n",
    "                lAvg += cols[m][1]\n",
    "                count += 1\n",
    "        if count != 0: new_centroids.append([wAvg/count, lAvg/count])\n",
    "        else: print(\"removing useless centroid\")\n",
    "    return new_centroids\n",
    "\n",
    "def plotResult(cols, centroids, groups):\n",
    "    plt.title(\"Iris chart with centroids\")\n",
    "    plt.xlabel(\"Width\")\n",
    "    plt.ylabel(\"Length\")\n",
    "    plt.style.use('seaborn-pastel')\n",
    "    cols = np.array(cols)\n",
    "    centroids = np.array(centroids)\n",
    "    for g in range(0,len(centroids)):\n",
    "        groupToScatter = []\n",
    "        for p in range(0,len(cols)):\n",
    "            if groups[p] == g:\n",
    "                groupToScatter.append(cols[p])\n",
    "        groupToScatter = np.array(groupToScatter)\n",
    "        plt.scatter(groupToScatter[:,0], groupToScatter[:,1])\n",
    "    \n",
    "    plt.scatter(centroids[:,0], centroids[:,1], c=\"green\")\n",
    "    plt.show()\n",
    "\n",
    "\n",
    "#My own k-means function for only two variables\n",
    "def kmeans2d(column1, column2, k, n, seltype=\"random\"):\n",
    "    cols = list(map(list, zip(column1, column2)))\n",
    "    centroids = setStartingCentroids2d(cols, k, seltype) #centroid list selection\n",
    "    groups = setDistances2d(cols, centroids) #iterate n times to move centroids\n",
    "    print(\"Starting centroids\\n\", np.array(centroids))\n",
    "    for iterations in range(1,n):\n",
    "        #TODO Można rozszerzyć tę pętlę o sprawdzanie czy po i-tej iteracji nastąpiły zmiany w pozycji centroidów. \n",
    "        #TODO Jeśli nie, to wyjść z pętli po i-tej iteracji zamiast po n iteracjach\n",
    "        centroids = newCentroids2d(centroids, groups, cols)\n",
    "        print(\"Centroids after recalculation, iteration nr \"+str(iterations)+\":\\n\", np.array(centroids))\n",
    "        groups = setDistances2d(cols, centroids)\n",
    "    \n",
    "    plotResult(cols, centroids, groups)\n"
   ]
  },
  {
   "cell_type": "code",
   "execution_count": 7,
   "metadata": {},
   "outputs": [
    {
     "name": "stdout",
     "output_type": "stream",
     "text": [
      "Starting centroids\n",
      " [[1.5 4.9]\n",
      " [0.2 1.4]\n",
      " [1.4 4.7]]\n",
      "Centroids after recalculation, iteration nr 1:\n",
      " [[1.99444444 5.51481481]\n",
      " [0.244      1.464     ]\n",
      " [1.30217391 4.19130435]]\n",
      "Centroids after recalculation, iteration nr 2:\n",
      " [[2.01346154 5.53846154]\n",
      " [0.244      1.464     ]\n",
      " [1.31041667 4.22083333]]\n",
      "Centroids after recalculation, iteration nr 3:\n",
      " [[2.02653061 5.58367347]\n",
      " [0.244      1.464     ]\n",
      " [1.33921569 4.25490196]]\n",
      "Centroids after recalculation, iteration nr 4:\n",
      " [[2.0375     5.59583333]\n",
      " [0.244      1.464     ]\n",
      " [1.34230769 4.26923077]]\n"
     ]
    },
    {
     "data": {
      "image/png": "[encoded data removed]",
      "text/plain": [
       "<Figure size 432x288 with 1 Axes>"
      ]
     },
     "metadata": {},
     "output_type": "display_data"
    },
    {
     "name": "stdout",
     "output_type": "stream",
     "text": [
      "Starting centroids\n",
      " [[3.5 5.5]\n",
      " [3.  7.1]\n",
      " [3.3 5.1]]\n",
      "Centroids after recalculation, iteration nr 1:\n",
      " [[3.19761905 5.78809524]\n",
      " [2.94074074 6.72777778]\n",
      " [3.05555556 5.00185185]]\n",
      "Centroids after recalculation, iteration nr 2:\n",
      " [[3.064 5.804]\n",
      " [2.978 6.78 ]\n",
      " [3.12  4.946]]\n",
      "Centroids after recalculation, iteration nr 3:\n",
      " [[2.93584906 5.82075472]\n",
      " [2.99791667 6.80416667]\n",
      " [3.23673469 4.92653061]]\n",
      "Centroids after recalculation, iteration nr 4:\n",
      " [[2.79215686 5.88039216]\n",
      " [3.07111111 6.83777778]\n",
      " [3.28703704 4.97962963]]\n"
     ]
    },
    {
     "data": {
      "image/png": "[encoded data removed]",
      "text/plain": [
       "<Figure size 432x288 with 1 Axes>"
      ]
     },
     "metadata": {},
     "output_type": "display_data"
    }
   ],
   "source": [
    "kmeans2d(Iris['Petal width'], Iris['Petal length'], 3, 5)\n",
    "kmeans2d(Iris['Sepal width'], Iris['Sepal length'], 3, 5)"
   ]
  },
  {
   "cell_type": "code",
   "execution_count": 8,
   "metadata": {},
   "outputs": [],
   "source": [
    "def setStartingCentroids(table, k, centroid_list=[]):\n",
    "    if centroid_list == []:\n",
    "        samp = rd.sample(range(0,len(table)), k)\n",
    "        for x in range (0,k):\n",
    "            centroid_list.append((table[samp[x]]))\n",
    "    return centroid_list\n",
    "    \n",
    "def assignGroups(distances):\n",
    "    groups = []\n",
    "    for row in range(0,len(distances)):\n",
    "        groups.append(distances[row].index(min(distances[row])))\n",
    "    return groups\n",
    "        \n",
    "def setDistances(table, centroids):\n",
    "    distances = []\n",
    "\n",
    "    for row in range (0,len(table)):\n",
    "        point_distances = []\n",
    "        for x in range(0, len(centroids)):\n",
    "            single_distance = 0\n",
    "            for z in range(len(table[0])):\n",
    "                single_distance +=mt.pow(table[row][z]-centroids[x][z],2)\n",
    "            single_distance = mt.sqrt(single_distance)\n",
    "            point_distances.append(single_distance)\n",
    "        distances.append(point_distances)\n",
    "    groups = assignGroups(distances)\n",
    "    return groups\n",
    "\n",
    "def newCentroids(table, centroids, groups):\n",
    "    new_centroids = []\n",
    "    for k in range (0, len(centroids)):\n",
    "        count = 0\n",
    "        centroid = []\n",
    "        for x in range(0, len(table[0])):           #zrobienie w arrayu centroid tyle miejsc na wartości ile jest w tabeli\n",
    "            centroid.append(0)\n",
    "        for group in range(0, len(groups)):         #iteracja po groups[] i wybranie odpowiednich wartości z tabeli do wyliczenia nowego centroidu\n",
    "            if (groups[group] == k):\n",
    "                count += 1\n",
    "                for z in range(0,len(centroid)):    \n",
    "                    centroid[z] += table[k][z]\n",
    "        if count != 0:                              #jeśli przynajmniej jeden punkt należy do centroidu to wyliczamy jego średnie koordynaty\n",
    "            for av in range(0,len(centroid)):\n",
    "                centroid[av] /= count\n",
    "            new_centroids.append(centroid)\n",
    "        else: print(\"removing useless centroid\")    #w przeciwnym wypadku nawet go nie wyliczamy\n",
    "    return new_centroids\n",
    "    \n",
    "    \n",
    "def kMeans(table, k, n, centroid_list=[]):\n",
    "    centroids = setStartingCentroids(table, k, centroid_list)\n",
    "    groups = setDistances(table, centroids)\n",
    "    print(\"Starting centroids\\n\", np.array(centroids))\n",
    "    print(groups)\n",
    "    for iterations in range(1,n):\n",
    "        previous_centroids = centroids\n",
    "        centroids = newCentroids(table, centroids, groups)\n",
    "        if  (np.array(centroids) == np.array(previous_centroids)).all():\n",
    "            print(\"After \"+str(iterations)+\" iterations program found an optimum. Leaving the loop...\")\n",
    "            break\n",
    "        print(\"Centroids after recalculation, iteration nr \"+str(iterations)+\":\\n\", np.array(centroids))\n",
    "        groups = setDistances(table, centroids)\n"
   ]
  },
  {
   "cell_type": "code",
   "execution_count": 9,
   "metadata": {},
   "outputs": [],
   "source": [
    "kmeans_lib = KMeans(\n",
    "    n_clusters=3,\n",
    "    n_init=10,\n",
    "    max_iter=100,\n",
    "    random_state=42\n",
    ")"
   ]
  },
  {
   "cell_type": "code",
   "execution_count": 10,
   "metadata": {},
   "outputs": [],
   "source": [
    "sc = StandardScaler()\n",
    "IrisData = Iris.drop(\"Species\",axis=1)\n",
    "IrisData_scaled = sc.fit_transform(IrisData)\n"
   ]
  },
  {
   "cell_type": "code",
   "execution_count": 11,
   "metadata": {},
   "outputs": [
    {
     "name": "stdout",
     "output_type": "stream",
     "text": [
      "Starting centroids\n",
      " [[-1.02184904  0.33784833 -1.45500381 -1.31297673]\n",
      " [ 1.03800476  0.56925129  1.10395287  1.1850097 ]\n",
      " [-0.05250608 -0.8191665   0.08037019  0.00175297]]\n",
      "[0, 0, 0, 0, 0, 0, 0, 0, 0, 0, 0, 0, 0, 0, 0, 0, 0, 0, 0, 0, 0, 0, 0, 0, 0, 0, 0, 0, 0, 0, 0, 0, 0, 0, 0, 0, 0, 0, 0, 0, 0, 0, 0, 0, 0, 0, 0, 0, 0, 0, 1, 1, 1, 2, 2, 2, 1, 2, 2, 2, 2, 2, 2, 2, 2, 1, 2, 2, 2, 2, 1, 2, 2, 2, 2, 2, 2, 1, 2, 2, 2, 2, 2, 2, 2, 1, 1, 2, 2, 2, 2, 2, 2, 2, 2, 2, 2, 2, 2, 2, 1, 2, 1, 1, 1, 1, 2, 1, 2, 1, 1, 2, 1, 2, 1, 1, 1, 1, 1, 2, 1, 2, 1, 2, 1, 1, 2, 1, 1, 1, 1, 1, 1, 2, 2, 1, 1, 1, 2, 1, 1, 1, 2, 1, 1, 1, 2, 1, 1, 2]\n",
      "Centroids after recalculation, iteration nr 1:\n",
      " [[-0.90068117  1.03205722 -1.3412724  -1.31297673]\n",
      " [-1.14301691 -0.1249576  -1.3412724  -1.31297673]\n",
      " [-1.38535265  0.33784833 -1.39813811 -1.31297673]]\n",
      "Centroids after recalculation, iteration nr 2:\n",
      " [[-0.90068117  1.03205722 -1.3412724  -1.31297673]\n",
      " [-1.14301691 -0.1249576  -1.3412724  -1.31297673]\n",
      " [-1.38535265  0.33784833 -1.39813811 -1.31297673]]\n",
      "After 3 iterations program found an optimum. Leaving the loop...\n"
     ]
    }
   ],
   "source": [
    "kMeans(IrisData_scaled, 3, 5)"
   ]
  },
  {
   "cell_type": "code",
   "execution_count": 12,
   "metadata": {},
   "outputs": [
    {
     "data": {
      "text/plain": [
       "KMeans(max_iter=100, n_clusters=3, random_state=42)"
      ]
     },
     "execution_count": 12,
     "metadata": {},
     "output_type": "execute_result"
    }
   ],
   "source": [
    "kmeans_lib.fit(IrisData_scaled)"
   ]
  },
  {
   "cell_type": "code",
   "execution_count": 13,
   "metadata": {},
   "outputs": [
    {
     "data": {
      "text/plain": [
       "140.96581663074699"
      ]
     },
     "execution_count": 13,
     "metadata": {},
     "output_type": "execute_result"
    }
   ],
   "source": [
    "kmeans_lib.inertia_"
   ]
  },
  {
   "cell_type": "code",
   "execution_count": 14,
   "metadata": {},
   "outputs": [
    {
     "data": {
      "text/plain": [
       "array([[ 1.13597027,  0.09659843,  0.996271  ,  1.01717187],\n",
       "       [-1.01457897,  0.84230679, -1.30487835, -1.25512862],\n",
       "       [-0.05021989, -0.88029181,  0.34753171,  0.28206327]])"
      ]
     },
     "execution_count": 14,
     "metadata": {},
     "output_type": "execute_result"
    }
   ],
   "source": [
    "kmeans_lib.cluster_centers_"
   ]
  },
  {
   "cell_type": "code",
   "execution_count": 15,
   "metadata": {},
   "outputs": [
    {
     "data": {
      "text/plain": [
       "5"
      ]
     },
     "execution_count": 15,
     "metadata": {},
     "output_type": "execute_result"
    }
   ],
   "source": [
    "kmeans_lib.n_iter_"
   ]
  },
  {
   "cell_type": "code",
   "execution_count": 16,
   "metadata": {},
   "outputs": [
    {
     "data": {
      "text/plain": [
       "array([1, 1, 1, 1, 1, 1, 1, 1, 1, 1, 1, 1, 1, 1, 1, 1, 1, 1, 1, 1, 1, 1,\n",
       "       1, 1, 1, 1, 1, 1, 1, 1, 1, 1, 1, 1, 1, 1, 1, 1, 1, 1, 1, 1, 1, 1,\n",
       "       1, 1, 1, 1, 1, 1, 0, 0, 0, 2, 2, 2, 0, 2, 2, 2, 2, 2, 2, 2, 2, 0,\n",
       "       2, 2, 2, 2, 0, 2, 2, 2, 2, 0, 0, 0, 2, 2, 2, 2, 2, 2, 2, 0, 0, 2,\n",
       "       2, 2, 2, 2, 2, 2, 2, 2, 2, 2, 2, 2, 0, 2, 0, 0, 0, 0, 2, 0, 0, 0,\n",
       "       0, 0, 0, 2, 2, 0, 0, 0, 0, 2, 0, 2, 0, 2, 0, 0, 2, 0, 0, 0, 0, 0,\n",
       "       0, 2, 2, 0, 0, 0, 2, 0, 0, 0, 2, 0, 0, 0, 2, 0, 0, 2])"
      ]
     },
     "execution_count": 16,
     "metadata": {},
     "output_type": "execute_result"
    }
   ],
   "source": [
    "kmeans_lib.labels_"
   ]
  }
 ],
 "metadata": {
  "interpreter": {
   "hash": "7b6a2c1b61b86baaad6b1ced1da716a40551d6a3aec6b9fece6b33c84465a905"
  },
  "kernelspec": {
   "display_name": "Python 3.9.7 ('base')",
   "language": "python",
   "name": "python3"
  },
  "language_info": {
   "codemirror_mode": {
    "name": "ipython",
    "version": 3
   },
   "file_extension": ".py",
   "mimetype": "text/x-python",
   "name": "python",
   "nbconvert_exporter": "python",
   "pygments_lexer": "ipython3",
   "version": "3.9.7"
  },
  "orig_nbformat": 4
 },
 "nbformat": 4,
 "nbformat_minor": 2
}

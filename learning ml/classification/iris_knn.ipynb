{
 "cells": [
  {
   "cell_type": "code",
   "execution_count": 1,
   "metadata": {},
   "outputs": [],
   "source": [
    "import pandas as pd\n",
    "import numpy as np\n",
    "import sklearn\n",
    "from sklearn import preprocessing\n",
    "from sklearn.utils import shuffle\n",
    "from sklearn.neighbors import KNeighborsClassifier\n",
    "from sklearn.metrics import confusion_matrix, classification_report"
   ]
  },
  {
   "cell_type": "code",
   "execution_count": 2,
   "metadata": {},
   "outputs": [],
   "source": [
    "Iris = pd.read_table('../datafiles/iris/iris.data', sep=',')\n",
    "Iris = Iris.dropna(how=\"all\")"
   ]
  },
  {
   "cell_type": "code",
   "execution_count": 3,
   "metadata": {},
   "outputs": [
    {
     "data": {
      "text/html": [
       "<div>\n",
       "<style scoped>\n",
       "    .dataframe tbody tr th:only-of-type {\n",
       "        vertical-align: middle;\n",
       "    }\n",
       "\n",
       "    .dataframe tbody tr th {\n",
       "        vertical-align: top;\n",
       "    }\n",
       "\n",
       "    .dataframe thead th {\n",
       "        text-align: right;\n",
       "    }\n",
       "</style>\n",
       "<table border=\"1\" class=\"dataframe\">\n",
       "  <thead>\n",
       "    <tr style=\"text-align: right;\">\n",
       "      <th></th>\n",
       "      <th>Sepal length</th>\n",
       "      <th>Sepal width</th>\n",
       "      <th>Petal length</th>\n",
       "      <th>Petal width</th>\n",
       "      <th>Species</th>\n",
       "    </tr>\n",
       "  </thead>\n",
       "  <tbody>\n",
       "    <tr>\n",
       "      <th>145</th>\n",
       "      <td>6.7</td>\n",
       "      <td>3.0</td>\n",
       "      <td>5.2</td>\n",
       "      <td>2.3</td>\n",
       "      <td>Iris-virginica</td>\n",
       "    </tr>\n",
       "    <tr>\n",
       "      <th>146</th>\n",
       "      <td>6.3</td>\n",
       "      <td>2.5</td>\n",
       "      <td>5.0</td>\n",
       "      <td>1.9</td>\n",
       "      <td>Iris-virginica</td>\n",
       "    </tr>\n",
       "    <tr>\n",
       "      <th>147</th>\n",
       "      <td>6.5</td>\n",
       "      <td>3.0</td>\n",
       "      <td>5.2</td>\n",
       "      <td>2.0</td>\n",
       "      <td>Iris-virginica</td>\n",
       "    </tr>\n",
       "    <tr>\n",
       "      <th>148</th>\n",
       "      <td>6.2</td>\n",
       "      <td>3.4</td>\n",
       "      <td>5.4</td>\n",
       "      <td>2.3</td>\n",
       "      <td>Iris-virginica</td>\n",
       "    </tr>\n",
       "    <tr>\n",
       "      <th>149</th>\n",
       "      <td>5.9</td>\n",
       "      <td>3.0</td>\n",
       "      <td>5.1</td>\n",
       "      <td>1.8</td>\n",
       "      <td>Iris-virginica</td>\n",
       "    </tr>\n",
       "  </tbody>\n",
       "</table>\n",
       "</div>"
      ],
      "text/plain": [
       "     Sepal length  Sepal width  Petal length  Petal width         Species\n",
       "145           6.7          3.0           5.2          2.3  Iris-virginica\n",
       "146           6.3          2.5           5.0          1.9  Iris-virginica\n",
       "147           6.5          3.0           5.2          2.0  Iris-virginica\n",
       "148           6.2          3.4           5.4          2.3  Iris-virginica\n",
       "149           5.9          3.0           5.1          1.8  Iris-virginica"
      ]
     },
     "execution_count": 3,
     "metadata": {},
     "output_type": "execute_result"
    }
   ],
   "source": [
    "Iris.tail()"
   ]
  },
  {
   "cell_type": "code",
   "execution_count": 4,
   "metadata": {},
   "outputs": [],
   "source": [
    "label_encoder = preprocessing.LabelEncoder()\n",
    "species = label_encoder.fit_transform(list(Iris['Species']))\n",
    "species_names = ['Setosa', 'Verginica', 'Versicolor']"
   ]
  },
  {
   "cell_type": "code",
   "execution_count": 5,
   "metadata": {},
   "outputs": [],
   "source": [
    "x = list(zip(list(Iris['Petal width']), list(Iris['Petal length']), list(Iris['Sepal width']), list(Iris['Sepal length'])))\n",
    "y = list(species)"
   ]
  },
  {
   "cell_type": "code",
   "execution_count": 6,
   "metadata": {},
   "outputs": [],
   "source": [
    "x_train, x_test, y_train, y_test = sklearn.model_selection.train_test_split(x, y, test_size=0.35)"
   ]
  },
  {
   "cell_type": "code",
   "execution_count": 7,
   "metadata": {},
   "outputs": [],
   "source": [
    "model = KNeighborsClassifier(n_neighbors=3)\n",
    "model.fit(x_train, y_train)\n",
    "acc = model.score(x_test, y_test)"
   ]
  },
  {
   "cell_type": "code",
   "execution_count": 8,
   "metadata": {},
   "outputs": [],
   "source": [
    "predicted = model.predict(x_test)"
   ]
  },
  {
   "cell_type": "code",
   "execution_count": 9,
   "metadata": {},
   "outputs": [
    {
     "name": "stdout",
     "output_type": "stream",
     "text": [
      "Predicted: Verginica Actual: Verginica\n",
      "Predicted: Versicolor Actual: Versicolor\n",
      "Predicted: Verginica Actual: Verginica\n",
      "Predicted: Setosa Actual: Setosa\n",
      "Predicted: Versicolor Actual: Versicolor\n",
      "Predicted: Versicolor Actual: Versicolor\n",
      "Predicted: Setosa Actual: Setosa\n",
      "Predicted: Setosa Actual: Setosa\n",
      "Predicted: Setosa Actual: Setosa\n",
      "Predicted: Verginica Actual: Verginica\n",
      "Predicted: Verginica Actual: Verginica\n",
      "Predicted: Setosa Actual: Setosa\n",
      "Predicted: Setosa Actual: Setosa\n",
      "Predicted: Verginica Actual: Verginica\n",
      "Predicted: Setosa Actual: Setosa\n",
      "Predicted: Setosa Actual: Setosa\n",
      "Predicted: Verginica Actual: Verginica\n",
      "Predicted: Setosa Actual: Setosa\n",
      "Predicted: Versicolor Actual: Versicolor\n",
      "Predicted: Verginica Actual: Verginica\n",
      "Predicted: Verginica Actual: Verginica\n",
      "Predicted: Verginica Actual: Verginica\n",
      "Predicted: Verginica Actual: Verginica\n",
      "Predicted: Setosa Actual: Setosa\n",
      "Predicted: Verginica Actual: Verginica\n",
      "Predicted: Verginica Actual: Verginica\n",
      "Predicted: Verginica Actual: Verginica\n",
      "Predicted: Setosa Actual: Setosa\n",
      "Predicted: Versicolor Actual: Versicolor\n",
      "Predicted: Verginica Actual: Verginica\n",
      "Predicted: Versicolor Actual: Versicolor\n",
      "Predicted: Setosa Actual: Setosa\n",
      "Predicted: Versicolor Actual: Versicolor\n",
      "Predicted: Setosa Actual: Setosa\n",
      "Predicted: Versicolor Actual: Versicolor\n",
      "Predicted: Versicolor Actual: Versicolor\n",
      "Predicted: Verginica Actual: Verginica\n",
      "Predicted: Verginica Actual: Verginica\n",
      "Predicted: Setosa Actual: Setosa\n",
      "Predicted: Setosa Actual: Setosa\n",
      "Predicted: Setosa Actual: Setosa\n",
      "Predicted: Versicolor Actual: Verginica\n",
      "Predicted: Verginica Actual: Verginica\n",
      "Predicted: Versicolor Actual: Versicolor\n",
      "Predicted: Verginica Actual: Verginica\n",
      "Predicted: Verginica Actual: Verginica\n",
      "Predicted: Versicolor Actual: Versicolor\n",
      "Predicted: Verginica Actual: Versicolor\n",
      "Predicted: Verginica Actual: Verginica\n",
      "Predicted: Versicolor Actual: Versicolor\n",
      "Predicted: Verginica Actual: Verginica\n",
      "Predicted: Versicolor Actual: Versicolor\n",
      "Predicted: Setosa Actual: Setosa\n"
     ]
    }
   ],
   "source": [
    "for x in range(len(predicted)):\n",
    "    print('Predicted:', species_names[predicted[x]], 'Actual:', species_names[y_test[x]])"
   ]
  },
  {
   "cell_type": "code",
   "execution_count": 10,
   "metadata": {},
   "outputs": [
    {
     "name": "stdout",
     "output_type": "stream",
     "text": [
      "              precision    recall  f1-score   support\n",
      "\n",
      "           0       1.00      1.00      1.00        17\n",
      "           1       0.95      0.95      0.95        22\n",
      "           2       0.93      0.93      0.93        14\n",
      "\n",
      "    accuracy                           0.96        53\n",
      "   macro avg       0.96      0.96      0.96        53\n",
      "weighted avg       0.96      0.96      0.96        53\n",
      "\n",
      "[[17  0  0]\n",
      " [ 0 21  1]\n",
      " [ 0  1 13]]\n"
     ]
    }
   ],
   "source": [
    "print(classification_report(y_test, predicted))\n",
    "print(confusion_matrix(y_test, predicted))"
   ]
  }
 ],
 "metadata": {
  "interpreter": {
   "hash": "7b6a2c1b61b86baaad6b1ced1da716a40551d6a3aec6b9fece6b33c84465a905"
  },
  "kernelspec": {
   "display_name": "Python 3.9.7 ('base')",
   "language": "python",
   "name": "python3"
  },
  "language_info": {
   "codemirror_mode": {
    "name": "ipython",
    "version": 3
   },
   "file_extension": ".py",
   "mimetype": "text/x-python",
   "name": "python",
   "nbconvert_exporter": "python",
   "pygments_lexer": "ipython3",
   "version": "3.9.7"
  },
  "orig_nbformat": 4
 },
 "nbformat": 4,
 "nbformat_minor": 2
}

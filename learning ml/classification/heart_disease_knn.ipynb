{
 "cells": [
  {
   "cell_type": "code",
   "execution_count": 1,
   "metadata": {},
   "outputs": [],
   "source": [
    "import pandas as pd\n",
    "import numpy as np\n",
    "import seaborn as sns\n",
    "import sklearn\n",
    "from sklearn import preprocessing\n",
    "from sklearn.utils import shuffle\n",
    "from sklearn.neighbors import KNeighborsClassifier\n",
    "from sklearn.metrics import confusion_matrix, classification_report"
   ]
  },
  {
   "cell_type": "code",
   "execution_count": 2,
   "metadata": {},
   "outputs": [],
   "source": [
    "df = pd.read_csv('../datafiles/heart disease/heart_disease.csv', sep=';')\n",
    "df = df.dropna(how=\"all\")"
   ]
  },
  {
   "cell_type": "code",
   "execution_count": 3,
   "metadata": {},
   "outputs": [],
   "source": [
    "df = df.drop(df[df['major_vessels_colored'] == '?'].index)\n",
    "df = df.drop(df[df['thal'] == '?'].index)"
   ]
  },
  {
   "cell_type": "code",
   "execution_count": 4,
   "metadata": {},
   "outputs": [
    {
     "data": {
      "text/html": [
       "<div>\n",
       "<style scoped>\n",
       "    .dataframe tbody tr th:only-of-type {\n",
       "        vertical-align: middle;\n",
       "    }\n",
       "\n",
       "    .dataframe tbody tr th {\n",
       "        vertical-align: top;\n",
       "    }\n",
       "\n",
       "    .dataframe thead th {\n",
       "        text-align: right;\n",
       "    }\n",
       "</style>\n",
       "<table border=\"1\" class=\"dataframe\">\n",
       "  <thead>\n",
       "    <tr style=\"text-align: right;\">\n",
       "      <th></th>\n",
       "      <th>age</th>\n",
       "      <th>gender</th>\n",
       "      <th>chest_pain</th>\n",
       "      <th>rest_SBP</th>\n",
       "      <th>cholesterol</th>\n",
       "      <th>fasting_blood_sugar_over_120</th>\n",
       "      <th>rest_ECG</th>\n",
       "      <th>max_HR</th>\n",
       "      <th>exerc_ind_ang</th>\n",
       "      <th>ST_by_exercise</th>\n",
       "      <th>slope_peak_exc_ST</th>\n",
       "      <th>major_vessels_colored</th>\n",
       "      <th>thal</th>\n",
       "      <th>diameter_narrowing</th>\n",
       "    </tr>\n",
       "  </thead>\n",
       "  <tbody>\n",
       "    <tr>\n",
       "      <th>0</th>\n",
       "      <td>63</td>\n",
       "      <td>male</td>\n",
       "      <td>typical ang</td>\n",
       "      <td>145</td>\n",
       "      <td>233</td>\n",
       "      <td>1</td>\n",
       "      <td>left vent hypertrophy</td>\n",
       "      <td>150</td>\n",
       "      <td>0</td>\n",
       "      <td>2.3</td>\n",
       "      <td>downsloping</td>\n",
       "      <td>0</td>\n",
       "      <td>fixed defect</td>\n",
       "      <td>0</td>\n",
       "    </tr>\n",
       "    <tr>\n",
       "      <th>1</th>\n",
       "      <td>67</td>\n",
       "      <td>male</td>\n",
       "      <td>asymptomatic</td>\n",
       "      <td>160</td>\n",
       "      <td>286</td>\n",
       "      <td>0</td>\n",
       "      <td>left vent hypertrophy</td>\n",
       "      <td>108</td>\n",
       "      <td>1</td>\n",
       "      <td>1.5</td>\n",
       "      <td>flat</td>\n",
       "      <td>3</td>\n",
       "      <td>normal</td>\n",
       "      <td>1</td>\n",
       "    </tr>\n",
       "    <tr>\n",
       "      <th>2</th>\n",
       "      <td>67</td>\n",
       "      <td>male</td>\n",
       "      <td>asymptomatic</td>\n",
       "      <td>120</td>\n",
       "      <td>229</td>\n",
       "      <td>0</td>\n",
       "      <td>left vent hypertrophy</td>\n",
       "      <td>129</td>\n",
       "      <td>1</td>\n",
       "      <td>2.6</td>\n",
       "      <td>flat</td>\n",
       "      <td>2</td>\n",
       "      <td>reversable defect</td>\n",
       "      <td>1</td>\n",
       "    </tr>\n",
       "    <tr>\n",
       "      <th>3</th>\n",
       "      <td>37</td>\n",
       "      <td>male</td>\n",
       "      <td>non-anginal</td>\n",
       "      <td>130</td>\n",
       "      <td>250</td>\n",
       "      <td>0</td>\n",
       "      <td>normal</td>\n",
       "      <td>187</td>\n",
       "      <td>0</td>\n",
       "      <td>3.5</td>\n",
       "      <td>downsloping</td>\n",
       "      <td>0</td>\n",
       "      <td>normal</td>\n",
       "      <td>0</td>\n",
       "    </tr>\n",
       "    <tr>\n",
       "      <th>4</th>\n",
       "      <td>41</td>\n",
       "      <td>female</td>\n",
       "      <td>atypical ang</td>\n",
       "      <td>130</td>\n",
       "      <td>204</td>\n",
       "      <td>0</td>\n",
       "      <td>left vent hypertrophy</td>\n",
       "      <td>172</td>\n",
       "      <td>0</td>\n",
       "      <td>1.4</td>\n",
       "      <td>upsloping</td>\n",
       "      <td>0</td>\n",
       "      <td>normal</td>\n",
       "      <td>0</td>\n",
       "    </tr>\n",
       "  </tbody>\n",
       "</table>\n",
       "</div>"
      ],
      "text/plain": [
       "   age  gender    chest_pain  rest_SBP  cholesterol  \\\n",
       "0   63    male   typical ang       145          233   \n",
       "1   67    male  asymptomatic       160          286   \n",
       "2   67    male  asymptomatic       120          229   \n",
       "3   37    male   non-anginal       130          250   \n",
       "4   41  female  atypical ang       130          204   \n",
       "\n",
       "   fasting_blood_sugar_over_120               rest_ECG  max_HR  exerc_ind_ang  \\\n",
       "0                             1  left vent hypertrophy     150              0   \n",
       "1                             0  left vent hypertrophy     108              1   \n",
       "2                             0  left vent hypertrophy     129              1   \n",
       "3                             0                 normal     187              0   \n",
       "4                             0  left vent hypertrophy     172              0   \n",
       "\n",
       "   ST_by_exercise slope_peak_exc_ST major_vessels_colored               thal  \\\n",
       "0             2.3       downsloping                     0       fixed defect   \n",
       "1             1.5              flat                     3             normal   \n",
       "2             2.6              flat                     2  reversable defect   \n",
       "3             3.5       downsloping                     0             normal   \n",
       "4             1.4         upsloping                     0             normal   \n",
       "\n",
       "   diameter_narrowing  \n",
       "0                   0  \n",
       "1                   1  \n",
       "2                   1  \n",
       "3                   0  \n",
       "4                   0  "
      ]
     },
     "execution_count": 4,
     "metadata": {},
     "output_type": "execute_result"
    }
   ],
   "source": [
    "df.head()"
   ]
  },
  {
   "cell_type": "code",
   "execution_count": 5,
   "metadata": {},
   "outputs": [
    {
     "name": "stdout",
     "output_type": "stream",
     "text": [
      "<class 'pandas.core.frame.DataFrame'>\n",
      "Int64Index: 297 entries, 0 to 301\n",
      "Data columns (total 14 columns):\n",
      " #   Column                        Non-Null Count  Dtype  \n",
      "---  ------                        --------------  -----  \n",
      " 0   age                           297 non-null    int64  \n",
      " 1   gender                        297 non-null    object \n",
      " 2   chest_pain                    297 non-null    object \n",
      " 3   rest_SBP                      297 non-null    int64  \n",
      " 4   cholesterol                   297 non-null    int64  \n",
      " 5   fasting_blood_sugar_over_120  297 non-null    int64  \n",
      " 6   rest_ECG                      297 non-null    object \n",
      " 7   max_HR                        297 non-null    int64  \n",
      " 8   exerc_ind_ang                 297 non-null    int64  \n",
      " 9   ST_by_exercise                297 non-null    float64\n",
      " 10  slope_peak_exc_ST             297 non-null    object \n",
      " 11  major_vessels_colored         297 non-null    object \n",
      " 12  thal                          297 non-null    object \n",
      " 13  diameter_narrowing            297 non-null    int64  \n",
      "dtypes: float64(1), int64(7), object(6)\n",
      "memory usage: 34.8+ KB\n"
     ]
    }
   ],
   "source": [
    "df.info()"
   ]
  },
  {
   "cell_type": "code",
   "execution_count": 6,
   "metadata": {},
   "outputs": [
    {
     "data": {
      "text/plain": [
       "age                             0\n",
       "gender                          0\n",
       "chest_pain                      0\n",
       "rest_SBP                        0\n",
       "cholesterol                     0\n",
       "fasting_blood_sugar_over_120    0\n",
       "rest_ECG                        0\n",
       "max_HR                          0\n",
       "exerc_ind_ang                   0\n",
       "ST_by_exercise                  0\n",
       "slope_peak_exc_ST               0\n",
       "major_vessels_colored           0\n",
       "thal                            0\n",
       "diameter_narrowing              0\n",
       "dtype: int64"
      ]
     },
     "execution_count": 6,
     "metadata": {},
     "output_type": "execute_result"
    }
   ],
   "source": [
    "df.isnull().sum()"
   ]
  },
  {
   "cell_type": "code",
   "execution_count": 7,
   "metadata": {},
   "outputs": [],
   "source": [
    "le = preprocessing.LabelEncoder()\n",
    "gender = le.fit_transform(list(df['gender']))\n",
    "gender_names = df['gender'].unique()\n",
    "chestpain = le.fit_transform(list(df['chest_pain']))\n",
    "chestpain_names = df['chest_pain'].unique()\n",
    "restecg = le.fit_transform(list(df['rest_ECG']))\n",
    "restecg_names = df['rest_ECG'].unique()\n",
    "slopepeak = le.fit_transform(list(df['slope_peak_exc_ST']))\n",
    "slopepeak_names = df['slope_peak_exc_ST'].unique()\n",
    "mvc = le.fit_transform(list(df['major_vessels_colored']))\n",
    "mvc_names = df['major_vessels_colored'].unique()\n",
    "thal = le.fit_transform(list(df['thal']))\n",
    "thal_names = df['thal'].unique()"
   ]
  },
  {
   "cell_type": "code",
   "execution_count": 8,
   "metadata": {},
   "outputs": [],
   "source": [
    "X = list(zip(\n",
    "    list(df['age']),\n",
    "    gender,\n",
    "    list(df['rest_SBP']),\n",
    "    list(df['cholesterol']),\n",
    "    list(df['fasting_blood_sugar_over_120']),\n",
    "    restecg,\n",
    "    list(df['max_HR']),\n",
    "    list(df['exerc_ind_ang']),\n",
    "    list(df['ST_by_exercise']),\n",
    "    slopepeak,\n",
    "    mvc,\n",
    "    thal,\n",
    "    list(df['diameter_narrowing'])\n",
    "))\n",
    "\n",
    "y = list(chestpain)"
   ]
  },
  {
   "cell_type": "code",
   "execution_count": 9,
   "metadata": {},
   "outputs": [],
   "source": [
    "sc = preprocessing.StandardScaler()\n",
    "X = sc.fit_transform(X)"
   ]
  },
  {
   "cell_type": "code",
   "execution_count": 10,
   "metadata": {},
   "outputs": [],
   "source": [
    "X_train, X_test, y_train, y_test = sklearn.model_selection.train_test_split(X,y,test_size=0.3)"
   ]
  },
  {
   "cell_type": "code",
   "execution_count": 11,
   "metadata": {},
   "outputs": [
    {
     "data": {
      "text/plain": [
       "0.5555555555555556"
      ]
     },
     "execution_count": 11,
     "metadata": {},
     "output_type": "execute_result"
    }
   ],
   "source": [
    "model = KNeighborsClassifier(n_neighbors=3)\n",
    "model.fit(X_train, y_train)\n",
    "acc = model.score(X_test, y_test)\n",
    "acc"
   ]
  },
  {
   "cell_type": "code",
   "execution_count": 12,
   "metadata": {},
   "outputs": [],
   "source": [
    "y_prediction = model.predict(X_test)"
   ]
  },
  {
   "cell_type": "code",
   "execution_count": 13,
   "metadata": {},
   "outputs": [
    {
     "name": "stdout",
     "output_type": "stream",
     "text": [
      "              precision    recall  f1-score   support\n",
      "\n",
      "           0       0.62      0.91      0.74        44\n",
      "           1       0.33      0.17      0.22        18\n",
      "           2       0.38      0.26      0.31        23\n",
      "           3       1.00      0.20      0.33         5\n",
      "\n",
      "    accuracy                           0.56        90\n",
      "   macro avg       0.58      0.38      0.40        90\n",
      "weighted avg       0.52      0.56      0.50        90\n",
      "\n"
     ]
    }
   ],
   "source": [
    "print(classification_report(y_test, y_prediction))"
   ]
  },
  {
   "cell_type": "code",
   "execution_count": 14,
   "metadata": {},
   "outputs": [
    {
     "name": "stdout",
     "output_type": "stream",
     "text": [
      "[[40  0  4  0]\n",
      " [10  3  5  0]\n",
      " [11  6  6  0]\n",
      " [ 3  0  1  1]]\n"
     ]
    }
   ],
   "source": [
    "print(confusion_matrix(y_test, y_prediction))"
   ]
  },
  {
   "cell_type": "code",
   "execution_count": 15,
   "metadata": {},
   "outputs": [
    {
     "name": "stdout",
     "output_type": "stream",
     "text": [
      "Predicted: typical ang Actual: typical ang\n",
      "Predicted: typical ang Actual: typical ang\n",
      "Predicted: typical ang Actual: typical ang\n",
      "Predicted: non-anginal Actual: asymptomatic\n",
      "Predicted: typical ang Actual: atypical ang\n",
      "Predicted: typical ang Actual: asymptomatic\n",
      "Predicted: non-anginal Actual: asymptomatic\n",
      "Predicted: typical ang Actual: typical ang\n",
      "Predicted: typical ang Actual: typical ang\n",
      "Predicted: typical ang Actual: typical ang\n",
      "Predicted: typical ang Actual: asymptomatic\n",
      "Predicted: typical ang Actual: non-anginal\n",
      "Predicted: typical ang Actual: asymptomatic\n",
      "Predicted: non-anginal Actual: atypical ang\n",
      "Predicted: typical ang Actual: non-anginal\n",
      "Predicted: non-anginal Actual: non-anginal\n",
      "Predicted: typical ang Actual: non-anginal\n",
      "Predicted: typical ang Actual: typical ang\n",
      "Predicted: typical ang Actual: typical ang\n",
      "Predicted: typical ang Actual: non-anginal\n",
      "Predicted: typical ang Actual: typical ang\n",
      "Predicted: typical ang Actual: asymptomatic\n",
      "Predicted: typical ang Actual: typical ang\n",
      "Predicted: typical ang Actual: typical ang\n",
      "Predicted: typical ang Actual: typical ang\n",
      "Predicted: asymptomatic Actual: non-anginal\n",
      "Predicted: typical ang Actual: atypical ang\n",
      "Predicted: typical ang Actual: typical ang\n",
      "Predicted: typical ang Actual: asymptomatic\n",
      "Predicted: non-anginal Actual: asymptomatic\n",
      "Predicted: asymptomatic Actual: asymptomatic\n",
      "Predicted: non-anginal Actual: typical ang\n",
      "Predicted: typical ang Actual: typical ang\n",
      "Predicted: typical ang Actual: typical ang\n",
      "Predicted: asymptomatic Actual: non-anginal\n",
      "Predicted: non-anginal Actual: asymptomatic\n",
      "Predicted: non-anginal Actual: typical ang\n",
      "Predicted: non-anginal Actual: typical ang\n",
      "Predicted: non-anginal Actual: non-anginal\n",
      "Predicted: typical ang Actual: typical ang\n",
      "Predicted: typical ang Actual: typical ang\n",
      "Predicted: typical ang Actual: atypical ang\n",
      "Predicted: typical ang Actual: typical ang\n",
      "Predicted: typical ang Actual: typical ang\n",
      "Predicted: typical ang Actual: non-anginal\n",
      "Predicted: non-anginal Actual: non-anginal\n",
      "Predicted: typical ang Actual: typical ang\n",
      "Predicted: atypical ang Actual: atypical ang\n",
      "Predicted: typical ang Actual: typical ang\n",
      "Predicted: typical ang Actual: typical ang\n",
      "Predicted: typical ang Actual: typical ang\n",
      "Predicted: typical ang Actual: asymptomatic\n",
      "Predicted: typical ang Actual: non-anginal\n",
      "Predicted: typical ang Actual: asymptomatic\n",
      "Predicted: typical ang Actual: non-anginal\n",
      "Predicted: non-anginal Actual: non-anginal\n",
      "Predicted: typical ang Actual: typical ang\n",
      "Predicted: typical ang Actual: typical ang\n",
      "Predicted: typical ang Actual: typical ang\n",
      "Predicted: typical ang Actual: typical ang\n",
      "Predicted: asymptomatic Actual: non-anginal\n",
      "Predicted: typical ang Actual: non-anginal\n",
      "Predicted: typical ang Actual: typical ang\n",
      "Predicted: asymptomatic Actual: non-anginal\n",
      "Predicted: asymptomatic Actual: non-anginal\n",
      "Predicted: asymptomatic Actual: non-anginal\n",
      "Predicted: asymptomatic Actual: asymptomatic\n",
      "Predicted: typical ang Actual: asymptomatic\n",
      "Predicted: typical ang Actual: typical ang\n",
      "Predicted: typical ang Actual: typical ang\n",
      "Predicted: typical ang Actual: typical ang\n",
      "Predicted: non-anginal Actual: typical ang\n",
      "Predicted: typical ang Actual: non-anginal\n",
      "Predicted: typical ang Actual: typical ang\n",
      "Predicted: typical ang Actual: non-anginal\n",
      "Predicted: typical ang Actual: typical ang\n",
      "Predicted: typical ang Actual: non-anginal\n",
      "Predicted: typical ang Actual: typical ang\n",
      "Predicted: typical ang Actual: asymptomatic\n",
      "Predicted: typical ang Actual: typical ang\n",
      "Predicted: typical ang Actual: typical ang\n",
      "Predicted: typical ang Actual: typical ang\n",
      "Predicted: typical ang Actual: typical ang\n",
      "Predicted: asymptomatic Actual: asymptomatic\n",
      "Predicted: non-anginal Actual: non-anginal\n",
      "Predicted: typical ang Actual: asymptomatic\n",
      "Predicted: non-anginal Actual: asymptomatic\n",
      "Predicted: typical ang Actual: typical ang\n",
      "Predicted: non-anginal Actual: non-anginal\n",
      "Predicted: typical ang Actual: typical ang\n"
     ]
    }
   ],
   "source": [
    "for x in range(len(y_prediction)):\n",
    "    print('Predicted:', chestpain_names[y_prediction[x]], 'Actual:', chestpain_names[y_test[x]])"
   ]
  }
 ],
 "metadata": {
  "interpreter": {
   "hash": "7b6a2c1b61b86baaad6b1ced1da716a40551d6a3aec6b9fece6b33c84465a905"
  },
  "kernelspec": {
   "display_name": "Python 3.9.7 ('base')",
   "language": "python",
   "name": "python3"
  },
  "language_info": {
   "codemirror_mode": {
    "name": "ipython",
    "version": 3
   },
   "file_extension": ".py",
   "mimetype": "text/x-python",
   "name": "python",
   "nbconvert_exporter": "python",
   "pygments_lexer": "ipython3",
   "version": "3.9.7"
  },
  "orig_nbformat": 4
 },
 "nbformat": 4,
 "nbformat_minor": 2
}

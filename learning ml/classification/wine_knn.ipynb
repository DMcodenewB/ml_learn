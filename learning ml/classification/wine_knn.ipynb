{
 "cells": [
  {
   "cell_type": "code",
   "execution_count": 2,
   "metadata": {},
   "outputs": [],
   "source": [
    "import pandas as pd\n",
    "import numpy as np\n",
    "import seaborn as sns\n",
    "import sklearn\n",
    "from sklearn import preprocessing\n",
    "from sklearn.utils import shuffle\n",
    "from sklearn.neighbors import KNeighborsClassifier\n",
    "from sklearn.metrics import confusion_matrix, classification_report"
   ]
  },
  {
   "cell_type": "code",
   "execution_count": 3,
   "metadata": {},
   "outputs": [],
   "source": [
    "Wine = pd.read_csv('../datafiles/wine/wine.csv', sep=',')\n",
    "Wine = Wine.dropna(how=\"all\")"
   ]
  },
  {
   "cell_type": "code",
   "execution_count": 4,
   "metadata": {},
   "outputs": [
    {
     "data": {
      "text/html": [
       "<div>\n",
       "<style scoped>\n",
       "    .dataframe tbody tr th:only-of-type {\n",
       "        vertical-align: middle;\n",
       "    }\n",
       "\n",
       "    .dataframe tbody tr th {\n",
       "        vertical-align: top;\n",
       "    }\n",
       "\n",
       "    .dataframe thead th {\n",
       "        text-align: right;\n",
       "    }\n",
       "</style>\n",
       "<table border=\"1\" class=\"dataframe\">\n",
       "  <thead>\n",
       "    <tr style=\"text-align: right;\">\n",
       "      <th></th>\n",
       "      <th>Class</th>\n",
       "      <th>Alcohol</th>\n",
       "      <th>Malic acid</th>\n",
       "      <th>Ash</th>\n",
       "      <th>Alcalinity of ash</th>\n",
       "      <th>Magnesium</th>\n",
       "      <th>Total phenols</th>\n",
       "      <th>Flavanoids</th>\n",
       "      <th>Nonflavanoid phenols</th>\n",
       "      <th>Proanthocyanins</th>\n",
       "      <th>Color intensity</th>\n",
       "      <th>Hue</th>\n",
       "      <th>OD280/OD315 of diluted wines</th>\n",
       "      <th>Proline</th>\n",
       "    </tr>\n",
       "  </thead>\n",
       "  <tbody>\n",
       "    <tr>\n",
       "      <th>173</th>\n",
       "      <td>3</td>\n",
       "      <td>13.71</td>\n",
       "      <td>5.65</td>\n",
       "      <td>2.45</td>\n",
       "      <td>20.5</td>\n",
       "      <td>95</td>\n",
       "      <td>1.68</td>\n",
       "      <td>0.61</td>\n",
       "      <td>0.52</td>\n",
       "      <td>1.06</td>\n",
       "      <td>7.7</td>\n",
       "      <td>0.64</td>\n",
       "      <td>1.74</td>\n",
       "      <td>740</td>\n",
       "    </tr>\n",
       "    <tr>\n",
       "      <th>174</th>\n",
       "      <td>3</td>\n",
       "      <td>13.40</td>\n",
       "      <td>3.91</td>\n",
       "      <td>2.48</td>\n",
       "      <td>23.0</td>\n",
       "      <td>102</td>\n",
       "      <td>1.80</td>\n",
       "      <td>0.75</td>\n",
       "      <td>0.43</td>\n",
       "      <td>1.41</td>\n",
       "      <td>7.3</td>\n",
       "      <td>0.70</td>\n",
       "      <td>1.56</td>\n",
       "      <td>750</td>\n",
       "    </tr>\n",
       "    <tr>\n",
       "      <th>175</th>\n",
       "      <td>3</td>\n",
       "      <td>13.27</td>\n",
       "      <td>4.28</td>\n",
       "      <td>2.26</td>\n",
       "      <td>20.0</td>\n",
       "      <td>120</td>\n",
       "      <td>1.59</td>\n",
       "      <td>0.69</td>\n",
       "      <td>0.43</td>\n",
       "      <td>1.35</td>\n",
       "      <td>10.2</td>\n",
       "      <td>0.59</td>\n",
       "      <td>1.56</td>\n",
       "      <td>835</td>\n",
       "    </tr>\n",
       "    <tr>\n",
       "      <th>176</th>\n",
       "      <td>3</td>\n",
       "      <td>13.17</td>\n",
       "      <td>2.59</td>\n",
       "      <td>2.37</td>\n",
       "      <td>20.0</td>\n",
       "      <td>120</td>\n",
       "      <td>1.65</td>\n",
       "      <td>0.68</td>\n",
       "      <td>0.53</td>\n",
       "      <td>1.46</td>\n",
       "      <td>9.3</td>\n",
       "      <td>0.60</td>\n",
       "      <td>1.62</td>\n",
       "      <td>840</td>\n",
       "    </tr>\n",
       "    <tr>\n",
       "      <th>177</th>\n",
       "      <td>3</td>\n",
       "      <td>14.13</td>\n",
       "      <td>4.10</td>\n",
       "      <td>2.74</td>\n",
       "      <td>24.5</td>\n",
       "      <td>96</td>\n",
       "      <td>2.05</td>\n",
       "      <td>0.76</td>\n",
       "      <td>0.56</td>\n",
       "      <td>1.35</td>\n",
       "      <td>9.2</td>\n",
       "      <td>0.61</td>\n",
       "      <td>1.60</td>\n",
       "      <td>560</td>\n",
       "    </tr>\n",
       "  </tbody>\n",
       "</table>\n",
       "</div>"
      ],
      "text/plain": [
       "     Class  Alcohol  Malic acid   Ash  Alcalinity of ash  Magnesium  \\\n",
       "173      3    13.71        5.65  2.45               20.5         95   \n",
       "174      3    13.40        3.91  2.48               23.0        102   \n",
       "175      3    13.27        4.28  2.26               20.0        120   \n",
       "176      3    13.17        2.59  2.37               20.0        120   \n",
       "177      3    14.13        4.10  2.74               24.5         96   \n",
       "\n",
       "     Total phenols  Flavanoids  Nonflavanoid phenols  Proanthocyanins  \\\n",
       "173           1.68        0.61                  0.52             1.06   \n",
       "174           1.80        0.75                  0.43             1.41   \n",
       "175           1.59        0.69                  0.43             1.35   \n",
       "176           1.65        0.68                  0.53             1.46   \n",
       "177           2.05        0.76                  0.56             1.35   \n",
       "\n",
       "     Color intensity   Hue  OD280/OD315 of diluted wines  Proline  \n",
       "173              7.7  0.64                          1.74      740  \n",
       "174              7.3  0.70                          1.56      750  \n",
       "175             10.2  0.59                          1.56      835  \n",
       "176              9.3  0.60                          1.62      840  \n",
       "177              9.2  0.61                          1.60      560  "
      ]
     },
     "execution_count": 4,
     "metadata": {},
     "output_type": "execute_result"
    }
   ],
   "source": [
    "Wine.tail()"
   ]
  },
  {
   "cell_type": "code",
   "execution_count": 5,
   "metadata": {},
   "outputs": [
    {
     "name": "stdout",
     "output_type": "stream",
     "text": [
      "<class 'pandas.core.frame.DataFrame'>\n",
      "RangeIndex: 178 entries, 0 to 177\n",
      "Data columns (total 14 columns):\n",
      " #   Column                        Non-Null Count  Dtype  \n",
      "---  ------                        --------------  -----  \n",
      " 0   Class                         178 non-null    int64  \n",
      " 1   Alcohol                       178 non-null    float64\n",
      " 2   Malic acid                    178 non-null    float64\n",
      " 3   Ash                           178 non-null    float64\n",
      " 4   Alcalinity of ash             178 non-null    float64\n",
      " 5   Magnesium                     178 non-null    int64  \n",
      " 6   Total phenols                 178 non-null    float64\n",
      " 7   Flavanoids                    178 non-null    float64\n",
      " 8   Nonflavanoid phenols          178 non-null    float64\n",
      " 9   Proanthocyanins               178 non-null    float64\n",
      " 10  Color intensity               178 non-null    float64\n",
      " 11  Hue                           178 non-null    float64\n",
      " 12  OD280/OD315 of diluted wines  178 non-null    float64\n",
      " 13  Proline                       178 non-null    int64  \n",
      "dtypes: float64(11), int64(3)\n",
      "memory usage: 19.6 KB\n"
     ]
    },
    {
     "data": {
      "text/plain": [
       "Class                           0\n",
       "Alcohol                         0\n",
       "Malic acid                      0\n",
       "Ash                             0\n",
       "Alcalinity of ash               0\n",
       "Magnesium                       0\n",
       "Total phenols                   0\n",
       "Flavanoids                      0\n",
       "Nonflavanoid phenols            0\n",
       "Proanthocyanins                 0\n",
       "Color intensity                 0\n",
       "Hue                             0\n",
       "OD280/OD315 of diluted wines    0\n",
       "Proline                         0\n",
       "dtype: int64"
      ]
     },
     "execution_count": 5,
     "metadata": {},
     "output_type": "execute_result"
    }
   ],
   "source": [
    "Wine.info()\n",
    "Wine.isnull().sum()"
   ]
  },
  {
   "cell_type": "code",
   "execution_count": 6,
   "metadata": {},
   "outputs": [],
   "source": [
    "bins = (0, 3.1, 5.0, 7.1, 20)\n",
    "group_names = ['light', 'moderately light', 'moderately intense', 'intense']\n",
    "Wine['Color intensity'] = pd.cut(Wine['Color intensity'], bins = bins, labels= group_names)"
   ]
  },
  {
   "cell_type": "code",
   "execution_count": 7,
   "metadata": {},
   "outputs": [
    {
     "data": {
      "text/plain": [
       "<AxesSubplot:xlabel='Color intensity', ylabel='count'>"
      ]
     },
     "execution_count": 7,
     "metadata": {},
     "output_type": "execute_result"
    },
    {
     "data": {
      "image/png": "[encoded data removed]",
      "text/plain": [
       "<Figure size 432x288 with 1 Axes>"
      ]
     },
     "metadata": {
      "needs_background": "light"
     },
     "output_type": "display_data"
    }
   ],
   "source": [
    "sns.countplot(x=Wine['Color intensity'])"
   ]
  },
  {
   "cell_type": "code",
   "execution_count": 7,
   "metadata": {},
   "outputs": [
    {
     "data": {
      "text/plain": [
       "['moderately intense', 'moderately light', 'intense', 'light']\n",
       "Categories (4, object): ['light' < 'moderately light' < 'moderately intense' < 'intense']"
      ]
     },
     "execution_count": 7,
     "metadata": {},
     "output_type": "execute_result"
    }
   ],
   "source": [
    "Wine['Color intensity'].unique()"
   ]
  },
  {
   "cell_type": "code",
   "execution_count": 8,
   "metadata": {},
   "outputs": [],
   "source": [
    "label_color_intensity = preprocessing.LabelEncoder()\n",
    "intensity = label_color_intensity.fit_transform(list(Wine['Color intensity']))\n",
    "intensity_names = ['light', 'moderately light', 'moderately intense', 'intense']"
   ]
  },
  {
   "cell_type": "code",
   "execution_count": 9,
   "metadata": {},
   "outputs": [],
   "source": [
    "X = list(zip(list(Wine[\"Class\"]),\n",
    "list(Wine[\"Alcohol\"]),\n",
    "list(Wine[\"Malic acid\"]),\n",
    "list(Wine[\"Ash\"]),\n",
    "list(Wine[\"Alcalinity of ash\"]),\n",
    "list(Wine[\"Magnesium\"]),\n",
    "list(Wine[\"Total phenols\"]),\n",
    "list(Wine[\"Flavanoids\"]),\n",
    "list(Wine[\"Nonflavanoid phenols\"]),\n",
    "list(Wine[\"Proanthocyanins\"]),\n",
    "list(Wine[\"Hue\"]),\n",
    "list(Wine[\"OD280/OD315 of diluted wines\"]),\n",
    "list(Wine[\"Proline\"])))\n",
    "\n",
    "y = list(intensity)"
   ]
  },
  {
   "cell_type": "code",
   "execution_count": 10,
   "metadata": {},
   "outputs": [],
   "source": [
    "X_train, X_test, y_train, y_test = sklearn.model_selection.train_test_split(X, y, test_size=0.35)"
   ]
  },
  {
   "cell_type": "code",
   "execution_count": 11,
   "metadata": {},
   "outputs": [
    {
     "data": {
      "text/plain": [
       "0.3333333333333333"
      ]
     },
     "execution_count": 11,
     "metadata": {},
     "output_type": "execute_result"
    }
   ],
   "source": [
    "model = KNeighborsClassifier(n_neighbors=3)\n",
    "model.fit(X_train, y_train)\n",
    "acc = model.score(X_test, y_test)\n",
    "acc"
   ]
  },
  {
   "cell_type": "code",
   "execution_count": 12,
   "metadata": {},
   "outputs": [],
   "source": [
    "y_prediction = model.predict(X_test)"
   ]
  },
  {
   "cell_type": "code",
   "execution_count": 13,
   "metadata": {},
   "outputs": [
    {
     "name": "stdout",
     "output_type": "stream",
     "text": [
      "Predicted: light Actual: moderately light\n",
      "Predicted: light Actual: light\n",
      "Predicted: moderately intense Actual: moderately intense\n",
      "Predicted: light Actual: light\n",
      "Predicted: moderately intense Actual: moderately intense\n",
      "Predicted: moderately intense Actual: intense\n",
      "Predicted: light Actual: moderately intense\n",
      "Predicted: moderately light Actual: moderately light\n",
      "Predicted: light Actual: moderately intense\n",
      "Predicted: light Actual: moderately intense\n",
      "Predicted: light Actual: moderately light\n",
      "Predicted: light Actual: intense\n",
      "Predicted: light Actual: moderately light\n",
      "Predicted: light Actual: moderately light\n",
      "Predicted: light Actual: intense\n",
      "Predicted: light Actual: light\n",
      "Predicted: moderately light Actual: moderately intense\n",
      "Predicted: light Actual: moderately light\n",
      "Predicted: intense Actual: intense\n",
      "Predicted: moderately intense Actual: moderately intense\n",
      "Predicted: light Actual: intense\n",
      "Predicted: intense Actual: intense\n",
      "Predicted: light Actual: intense\n",
      "Predicted: moderately light Actual: intense\n",
      "Predicted: moderately light Actual: intense\n",
      "Predicted: intense Actual: light\n",
      "Predicted: moderately intense Actual: intense\n",
      "Predicted: light Actual: light\n",
      "Predicted: moderately intense Actual: moderately intense\n",
      "Predicted: intense Actual: light\n",
      "Predicted: light Actual: light\n",
      "Predicted: moderately light Actual: moderately light\n",
      "Predicted: moderately light Actual: intense\n",
      "Predicted: light Actual: moderately intense\n",
      "Predicted: moderately light Actual: moderately light\n",
      "Predicted: intense Actual: moderately intense\n",
      "Predicted: light Actual: light\n",
      "Predicted: moderately light Actual: moderately light\n",
      "Predicted: moderately intense Actual: intense\n",
      "Predicted: intense Actual: intense\n",
      "Predicted: light Actual: intense\n",
      "Predicted: moderately light Actual: moderately light\n",
      "Predicted: moderately intense Actual: moderately intense\n",
      "Predicted: light Actual: intense\n",
      "Predicted: moderately light Actual: intense\n",
      "Predicted: moderately light Actual: intense\n",
      "Predicted: moderately light Actual: moderately intense\n",
      "Predicted: moderately light Actual: intense\n",
      "Predicted: light Actual: intense\n",
      "Predicted: light Actual: moderately intense\n",
      "Predicted: intense Actual: intense\n",
      "Predicted: light Actual: moderately intense\n",
      "Predicted: light Actual: moderately intense\n",
      "Predicted: intense Actual: moderately intense\n",
      "Predicted: moderately light Actual: intense\n",
      "Predicted: moderately intense Actual: light\n",
      "Predicted: light Actual: intense\n",
      "Predicted: moderately intense Actual: intense\n",
      "Predicted: moderately intense Actual: intense\n",
      "Predicted: moderately intense Actual: intense\n",
      "Predicted: moderately light Actual: moderately light\n",
      "Predicted: intense Actual: moderately light\n",
      "Predicted: moderately light Actual: moderately intense\n"
     ]
    }
   ],
   "source": [
    "for x in range(len(y_prediction)):\n",
    "    print('Predicted:', intensity_names[y_prediction[x]], 'Actual:', intensity_names[y_test[x]])"
   ]
  },
  {
   "cell_type": "code",
   "execution_count": 14,
   "metadata": {},
   "outputs": [
    {
     "name": "stdout",
     "output_type": "stream",
     "text": [
      "              precision    recall  f1-score   support\n",
      "\n",
      "           0       0.23      0.67      0.34         9\n",
      "           1       0.38      0.50      0.43        12\n",
      "           2       0.42      0.29      0.34        17\n",
      "           3       0.44      0.16      0.24        25\n",
      "\n",
      "    accuracy                           0.33        63\n",
      "   macro avg       0.37      0.41      0.34        63\n",
      "weighted avg       0.39      0.33      0.32        63\n",
      "\n",
      "[[6 0 1 2]\n",
      " [5 6 0 1]\n",
      " [7 3 5 2]\n",
      " [8 7 6 4]]\n"
     ]
    }
   ],
   "source": [
    "print(classification_report(y_test, y_prediction))\n",
    "print(confusion_matrix(y_test, y_prediction))"
   ]
  },
  {
   "cell_type": "markdown",
   "metadata": {},
   "source": [
    "As we can see, the prediction is fairly inaccurate. However, what if we base the prediction of color intensity, excluding unimportant factors, such as \"Class\"? Let's check.\n",
    "\n",
    "What Google tells us:\n",
    "\n",
    "The intensity of color can be observed with the wine’s opacity. Deeply opaque red wines have been noted for having more pigment and phenolics than more translucent red wines. For example, Syrah has as much as 4 times more pigment (antioxidants) than Zinfandel. There are a few features you can observe that are generally true with color intensity:\n",
    "\n",
    "- Different grape varieties have different levels of intensity. For example, Gamay is very low and Pinotage has exceptionally high levels of pigmentation.\n",
    "- Color intensity can be amplified by other polyphenols (e.g. tannin) in wine. Thus, wines that are more opaque may also contain higher levels of tannin.\n",
    "- The pigment in red wine is sensitive to both temperature and sulfites. Wines that are fermented at high temperatures or have higher sulfur additions will have less color intensity.\n",
    "- Wines lose pigment as they age. As much as 85% of the anthocyanin is lost after 5 years"
   ]
  },
  {
   "cell_type": "code",
   "execution_count": 15,
   "metadata": {},
   "outputs": [],
   "source": [
    "X_new = list(zip(\n",
    "list(Wine[\"Malic acid\"]),\n",
    "list(Wine[\"Magnesium\"]),\n",
    "list(Wine[\"Total phenols\"]),\n",
    "list(Wine[\"Flavanoids\"]),\n",
    "list(Wine[\"Nonflavanoid phenols\"]),\n",
    "list(Wine[\"Proanthocyanins\"]),\n",
    "list(Wine[\"Hue\"]\n",
    ")))"
   ]
  },
  {
   "cell_type": "code",
   "execution_count": 16,
   "metadata": {},
   "outputs": [],
   "source": [
    "X_train, X_test, y_train, y_test = sklearn.model_selection.train_test_split(X_new, y, test_size=0.35)"
   ]
  },
  {
   "cell_type": "code",
   "execution_count": 17,
   "metadata": {},
   "outputs": [
    {
     "data": {
      "text/plain": [
       "0.38095238095238093"
      ]
     },
     "execution_count": 17,
     "metadata": {},
     "output_type": "execute_result"
    }
   ],
   "source": [
    "model = KNeighborsClassifier(n_neighbors=3)\n",
    "model.fit(X_train, y_train)\n",
    "acc = model.score(X_test, y_test)\n",
    "acc"
   ]
  },
  {
   "cell_type": "code",
   "execution_count": 18,
   "metadata": {},
   "outputs": [],
   "source": [
    "y_prediction = model.predict(X_test)"
   ]
  },
  {
   "cell_type": "code",
   "execution_count": 19,
   "metadata": {},
   "outputs": [
    {
     "name": "stdout",
     "output_type": "stream",
     "text": [
      "Predicted: moderately intense Actual: moderately intense\n",
      "Predicted: intense Actual: light\n",
      "Predicted: moderately intense Actual: intense\n",
      "Predicted: moderately intense Actual: light\n",
      "Predicted: intense Actual: moderately light\n",
      "Predicted: intense Actual: light\n",
      "Predicted: intense Actual: intense\n",
      "Predicted: intense Actual: moderately light\n",
      "Predicted: light Actual: moderately intense\n",
      "Predicted: moderately intense Actual: light\n",
      "Predicted: light Actual: moderately intense\n",
      "Predicted: moderately light Actual: moderately intense\n",
      "Predicted: moderately light Actual: intense\n",
      "Predicted: light Actual: intense\n",
      "Predicted: moderately intense Actual: moderately intense\n",
      "Predicted: intense Actual: intense\n",
      "Predicted: light Actual: moderately light\n",
      "Predicted: intense Actual: intense\n",
      "Predicted: intense Actual: intense\n",
      "Predicted: intense Actual: moderately light\n",
      "Predicted: light Actual: intense\n",
      "Predicted: intense Actual: intense\n",
      "Predicted: moderately intense Actual: light\n",
      "Predicted: light Actual: light\n",
      "Predicted: moderately light Actual: moderately light\n",
      "Predicted: light Actual: moderately light\n",
      "Predicted: light Actual: light\n",
      "Predicted: moderately intense Actual: moderately intense\n",
      "Predicted: moderately light Actual: intense\n",
      "Predicted: intense Actual: intense\n",
      "Predicted: moderately intense Actual: moderately intense\n",
      "Predicted: moderately light Actual: moderately light\n",
      "Predicted: moderately intense Actual: moderately intense\n",
      "Predicted: moderately light Actual: moderately light\n",
      "Predicted: moderately intense Actual: intense\n",
      "Predicted: light Actual: moderately intense\n",
      "Predicted: light Actual: moderately intense\n",
      "Predicted: light Actual: moderately intense\n",
      "Predicted: moderately intense Actual: intense\n",
      "Predicted: light Actual: moderately light\n",
      "Predicted: moderately intense Actual: moderately intense\n",
      "Predicted: moderately light Actual: intense\n",
      "Predicted: moderately light Actual: moderately light\n",
      "Predicted: moderately light Actual: intense\n",
      "Predicted: intense Actual: light\n",
      "Predicted: moderately light Actual: light\n",
      "Predicted: light Actual: light\n",
      "Predicted: light Actual: moderately intense\n",
      "Predicted: moderately intense Actual: moderately intense\n",
      "Predicted: intense Actual: moderately intense\n",
      "Predicted: moderately intense Actual: light\n",
      "Predicted: moderately intense Actual: intense\n",
      "Predicted: moderately light Actual: moderately light\n",
      "Predicted: moderately light Actual: moderately light\n",
      "Predicted: moderately light Actual: intense\n",
      "Predicted: light Actual: moderately light\n",
      "Predicted: intense Actual: intense\n",
      "Predicted: light Actual: light\n",
      "Predicted: moderately light Actual: intense\n",
      "Predicted: moderately intense Actual: light\n",
      "Predicted: intense Actual: moderately light\n",
      "Predicted: light Actual: moderately intense\n",
      "Predicted: intense Actual: moderately light\n"
     ]
    }
   ],
   "source": [
    "for x in range(len(y_prediction)):\n",
    "    print('Predicted:', intensity_names[y_prediction[x]], 'Actual:', intensity_names[y_test[x]])"
   ]
  },
  {
   "cell_type": "code",
   "execution_count": 20,
   "metadata": {},
   "outputs": [
    {
     "name": "stdout",
     "output_type": "stream",
     "text": [
      "              precision    recall  f1-score   support\n",
      "\n",
      "           0       0.24      0.31      0.27        13\n",
      "           1       0.43      0.40      0.41        15\n",
      "           2       0.44      0.44      0.44        16\n",
      "           3       0.44      0.37      0.40        19\n",
      "\n",
      "    accuracy                           0.38        63\n",
      "   macro avg       0.38      0.38      0.38        63\n",
      "weighted avg       0.39      0.38      0.39        63\n",
      "\n",
      "[[4 1 5 3]\n",
      " [4 6 0 5]\n",
      " [7 1 7 1]\n",
      " [2 6 4 7]]\n"
     ]
    }
   ],
   "source": [
    "print(classification_report(y_test, y_prediction))\n",
    "print(confusion_matrix(y_test, y_prediction))"
   ]
  },
  {
   "cell_type": "markdown",
   "metadata": {},
   "source": [
    "What if we set training set to take 20% of whole dataset?"
   ]
  },
  {
   "cell_type": "code",
   "execution_count": 21,
   "metadata": {},
   "outputs": [
    {
     "data": {
      "text/plain": [
       "0.5"
      ]
     },
     "execution_count": 21,
     "metadata": {},
     "output_type": "execute_result"
    }
   ],
   "source": [
    "X_train, X_test, y_train, y_test = sklearn.model_selection.train_test_split(X_new, y, test_size=0.2)\n",
    "model = KNeighborsClassifier(n_neighbors=3)\n",
    "model.fit(X_train, y_train)\n",
    "acc = model.score(X_test, y_test)\n",
    "acc"
   ]
  },
  {
   "cell_type": "code",
   "execution_count": 22,
   "metadata": {},
   "outputs": [
    {
     "name": "stdout",
     "output_type": "stream",
     "text": [
      "              precision    recall  f1-score   support\n",
      "\n",
      "           0       0.38      0.43      0.40         7\n",
      "           1       0.55      0.55      0.55        11\n",
      "           2       0.50      0.38      0.43         8\n",
      "           3       0.55      0.60      0.57        10\n",
      "\n",
      "    accuracy                           0.50        36\n",
      "   macro avg       0.49      0.49      0.49        36\n",
      "weighted avg       0.50      0.50      0.50        36\n",
      "\n",
      "[[3 2 2 0]\n",
      " [2 6 0 3]\n",
      " [2 1 3 2]\n",
      " [1 2 1 6]]\n"
     ]
    }
   ],
   "source": [
    "y_prediction = model.predict(X_test)\n",
    "print(classification_report(y_test, y_prediction))\n",
    "print(confusion_matrix(y_test, y_prediction))"
   ]
  }
 ],
 "metadata": {
  "interpreter": {
   "hash": "7b6a2c1b61b86baaad6b1ced1da716a40551d6a3aec6b9fece6b33c84465a905"
  },
  "kernelspec": {
   "display_name": "Python 3.9.7 ('base')",
   "language": "python",
   "name": "python3"
  },
  "language_info": {
   "codemirror_mode": {
    "name": "ipython",
    "version": 3
   },
   "file_extension": ".py",
   "mimetype": "text/x-python",
   "name": "python",
   "nbconvert_exporter": "python",
   "pygments_lexer": "ipython3",
   "version": "3.9.7"
  },
  "orig_nbformat": 4
 },
 "nbformat": 4,
 "nbformat_minor": 2
}
